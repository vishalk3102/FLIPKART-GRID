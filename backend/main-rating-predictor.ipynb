{
 "cells": [
  {
   "cell_type": "code",
   "execution_count": 2,
   "metadata": {},
   "outputs": [
    {
     "ename": "ImportError",
     "evalue": "cannot import name 'LabelEncoderer' from 'sklearn.preprocessing' (c:\\Users\\vrgpv\\anaconda3\\Lib\\site-packages\\sklearn\\preprocessing\\__init__.py)",
     "output_type": "error",
     "traceback": [
      "\u001b[1;31m---------------------------------------------------------------------------\u001b[0m",
      "\u001b[1;31mImportError\u001b[0m                               Traceback (most recent call last)",
      "Cell \u001b[1;32mIn[2], line 7\u001b[0m\n\u001b[0;32m      5\u001b[0m \u001b[39mfrom\u001b[39;00m \u001b[39mtensorflow\u001b[39;00m\u001b[39m.\u001b[39;00m\u001b[39mkeras\u001b[39;00m\u001b[39m.\u001b[39;00m\u001b[39mmodels\u001b[39;00m \u001b[39mimport\u001b[39;00m Model\n\u001b[0;32m      6\u001b[0m \u001b[39mfrom\u001b[39;00m \u001b[39msklearn\u001b[39;00m\u001b[39m.\u001b[39;00m\u001b[39mmodel_selection\u001b[39;00m \u001b[39mimport\u001b[39;00m train_test_split\n\u001b[1;32m----> 7\u001b[0m \u001b[39mfrom\u001b[39;00m \u001b[39msklearn\u001b[39;00m\u001b[39m.\u001b[39;00m\u001b[39mpreprocessing\u001b[39;00m \u001b[39mimport\u001b[39;00m LabelEncoderer\n",
      "\u001b[1;31mImportError\u001b[0m: cannot import name 'LabelEncoderer' from 'sklearn.preprocessing' (c:\\Users\\vrgpv\\anaconda3\\Lib\\site-packages\\sklearn\\preprocessing\\__init__.py)"
     ]
    }
   ],
   "source": [
    "import numpy as np\n",
    "import pandas as pd\n",
    "import tensorflow as tf\n",
    "from tensorflow.keras.layers import Input, Embedding, Flatten, Concatenate, Dense\n",
    "from tensorflow.keras.models import Model\n",
    "from sklearn.model_selection import train_test_split\n",
    "from sklearn.preprocessing import LabelEncoder"
   ]
  },
  {
   "cell_type": "code",
   "execution_count": null,
   "metadata": {},
   "outputs": [],
   "source": [
    "from numpy import loadtxt\n",
    "from tensorflow.keras.models import load_model\n",
    " \n",
    "# load model\n",
    "model = load_model('/kaggle/input/wholemodel/WholeDatasetModel.h5')"
   ]
  },
  {
   "cell_type": "code",
   "execution_count": null,
   "metadata": {},
   "outputs": [],
   "source": [
    "df = pd.read_csv('/kaggle/input/testing/Dataset.csv')"
   ]
  },
  {
   "cell_type": "code",
   "execution_count": null,
   "metadata": {},
   "outputs": [],
   "source": [
    "item_encoder = LabelEncoder()\n",
    "df['items'] = item_encoder.fit_transform(df['rows.row.product_id'])"
   ]
  },
  {
   "cell_type": "code",
   "execution_count": null,
   "metadata": {},
   "outputs": [],
   "source": [
    "# Example user and item data\n",
    "target_user_id = 111384\n",
    "\n",
    "# Assuming df is your DataFrame containing item data\n",
    "\n",
    "\n",
    "\n",
    "# Create and fit the user encoder\n",
    "user_encoder = LabelEncoder()\n",
    "user_encoder.fit([target_user_id])\n",
    "\n",
    "# Create a dictionary to map original item IDs to numeric encodings\n",
    "item_mapping = {item: index for index, item in enumerate(items)}\n",
    "\n",
    "# Create an inverse mapping to retrieve original item IDs from numeric encodings\n",
    "inverse_item_mapping = {index: item for item, index in item_mapping.items()}\n",
    "\n",
    "# Encode the user ID\n",
    "encoded_user_id = user_encoder.transform([target_user_id])[0]\n",
    "\n",
    "# Encode all items\n",
    "encoded_item_ids = np.array([item_mapping[item] for item in items])\n",
    "\n",
    "# Simulated model predictions (replace this with your actual model)\n",
    "num_users = 1\n",
    "num_items = len(items)\n",
    "model_predictions = np.random.rand(num_users, num_items)\n",
    "\n",
    "# Predict ratings for the chosen user and all items\n",
    "user_ids = np.full(num_items, encoded_user_id)\n",
    "predictions = model_predictions[encoded_user_id]\n",
    "\n",
    "# Get top N recommendations\n",
    "N = 7 # Number of recommendations you want to provide\n",
    "recommended_item_indices = predictions.argsort()[::-1][:N]"
   ]
  },
  {
   "cell_type": "code",
   "execution_count": null,
   "metadata": {},
   "outputs": [],
   "source": [
    "decoded_items = item_encoder.inverse_transform(df['items'])\n",
    "\n",
    "\n",
    "# Display recommendations for the target user\n",
    "print(f\"Top {N} recommended products for User {target_user_id}:\")\n",
    "for index in recommended_item_indices:\n",
    "    recommended_item_id = decoded_items[index]\n",
    "    print(f\"  Recommendation: Product ID: {recommended_item_id}\")"
   ]
  }
 ],
 "metadata": {
  "kernelspec": {
   "display_name": "Python 3",
   "language": "python",
   "name": "python3"
  },
  "language_info": {
   "codemirror_mode": {
    "name": "ipython",
    "version": 3
   },
   "file_extension": ".py",
   "mimetype": "text/x-python",
   "name": "python",
   "nbconvert_exporter": "python",
   "pygments_lexer": "ipython3",
   "version": "3.11.3"
  },
  "orig_nbformat": 4
 },
 "nbformat": 4,
 "nbformat_minor": 2
}
